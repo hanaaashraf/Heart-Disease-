{
 "cells": [
  {
   "cell_type": "markdown",
   "id": "f125b61f",
   "metadata": {},
   "source": [
    "# 02 — PCA Analysis\n",
    "\n",
    "- Fits PCA on preprocessed numeric space\n",
    "- Plots explained variance\n",
    "- Saves PCA object for downstream steps"
   ]
  },
  {
   "cell_type": "code",
   "execution_count": null,
   "id": "b3b7a622",
   "metadata": {},
   "outputs": [],
   "source": [
    "import joblib\n",
    "import numpy as np\n",
    "import pandas as pd\n",
    "import matplotlib.pyplot as plt\n",
    "from pathlib import Path\n",
    "from sklearn.decomposition import PCA\n",
    "\n",
    "RANDOM_STATE = 42\n",
    "\n",
    "train_path = Path(\"../data/processed/train.csv\")\n",
    "if not train_path.exists():\n",
    "    raise FileNotFoundError(\"Run notebook 01 first to create processed data.\")\n",
    "\n",
    "preprocessor = joblib.load(\"../models/preprocessor.pkl\")\n",
    "\n",
    "train = pd.read_csv(train_path)\n",
    "possible_targets = [\"target\", \"num\", \"condition\", \"disease\"]\n",
    "target = next((t for t in possible_targets if t in train.columns), None)\n",
    "if target is None:\n",
    "    raise ValueError(\"Target not found in processed train.csv\")\n",
    "\n",
    "X_train = train.drop(columns=[target])\n",
    "y_train = train[target]\n",
    "\n",
    "X_proc = preprocessor.fit_transform(X_train)\n",
    "\n",
    "# PCA\n",
    "pca = PCA(random_state=RANDOM_STATE)\n",
    "X_pca = pca.fit_transform(X_proc.toarray() if hasattr(X_proc, \"toarray\") else X_proc)\n",
    "\n",
    "# Explained variance plot\n",
    "plt.figure()\n",
    "plt.plot(np.cumsum(pca.explained_variance_ratio_))\n",
    "plt.xlabel(\"Number of Components\")\n",
    "plt.ylabel(\"Cumulative Explained Variance\")\n",
    "plt.title(\"PCA Cumulative Explained Variance\")\n",
    "plt.grid(True)\n",
    "plt.show()\n",
    "\n",
    "joblib.dump(pca, \"../models/pca.pkl\")\n",
    "print(\"Saved ../models/pca.pkl\")"
   ]
  }
 ],
 "metadata": {},
 "nbformat": 4,
 "nbformat_minor": 5
}
